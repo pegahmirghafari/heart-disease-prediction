{
  "nbformat": 4,
  "nbformat_minor": 0,
  "metadata": {
    "colab": {
      "name": "Heart- Disease-PREDICTION.ipynb",
      "provenance": [],
      "collapsed_sections": []
    },
    "kernelspec": {
      "name": "python3",
      "display_name": "Python 3"
    }
  },
  "cells": [
    {
      "cell_type": "markdown",
      "metadata": {
        "id": "czMEC9NfSuxy"
      },
      "source": [
        "# **PREDICTING HEART DISEASE FROM CLINICAL AND LABORATORIAL DATA USING KNN**"
      ]
    },
    {
      "cell_type": "markdown",
      "metadata": {
        "id": "FtMBecknGOmd"
      },
      "source": [
        "## **INTRODUCTION**"
      ]
    },
    {
      "cell_type": "markdown",
      "metadata": {
        "id": "uwkYjqMeOLd6"
      },
      "source": [
        "Importations:"
      ]
    },
    {
      "cell_type": "code",
      "metadata": {
        "id": "jjCgyWzrNYy1"
      },
      "source": [
        "import pandas as pd\n",
        "import numpy as np\n",
        "import matplotlib.pyplot as plt\n",
        "import seaborn as sns\n",
        "from sklearn.model_selection import train_test_split\n",
        "from sklearn.preprocessing import StandardScaler\n",
        "from sklearn.neighbors import KNeighborsClassifier\n",
        "from sklearn.model_selection import GridSearchCV\n",
        "from sklearn import metrics\n",
        "%matplotlib inline"
      ],
      "execution_count": null,
      "outputs": []
    },
    {
      "cell_type": "markdown",
      "metadata": {
        "id": "VhBGX_r0OQB3"
      },
      "source": [
        "Loading the dataset:"
      ]
    },
    {
      "cell_type": "code",
      "metadata": {
        "id": "seZytjvgOWvg",
        "colab": {
          "base_uri": "https://localhost:8080/",
          "height": 204
        },
        "outputId": "f4b6b104-844e-403b-bfac-72a5f7aab645"
      },
      "source": [
        "data = pd.read_csv(\"../heart.csv\")\n",
        "data.head()"
      ],
      "execution_count": null,
      "outputs": [
        {
          "output_type": "execute_result",
          "data": {
            "text/html": [
              "<div>\n",
              "<style scoped>\n",
              "    .dataframe tbody tr th:only-of-type {\n",
              "        vertical-align: middle;\n",
              "    }\n",
              "\n",
              "    .dataframe tbody tr th {\n",
              "        vertical-align: top;\n",
              "    }\n",
              "\n",
              "    .dataframe thead th {\n",
              "        text-align: right;\n",
              "    }\n",
              "</style>\n",
              "<table border=\"1\" class=\"dataframe\">\n",
              "  <thead>\n",
              "    <tr style=\"text-align: right;\">\n",
              "      <th></th>\n",
              "      <th>age</th>\n",
              "      <th>sex</th>\n",
              "      <th>cp</th>\n",
              "      <th>trestbps</th>\n",
              "      <th>chol</th>\n",
              "      <th>fbs</th>\n",
              "      <th>restecg</th>\n",
              "      <th>thalach</th>\n",
              "      <th>exang</th>\n",
              "      <th>oldpeak</th>\n",
              "      <th>slope</th>\n",
              "      <th>ca</th>\n",
              "      <th>thal</th>\n",
              "      <th>target</th>\n",
              "    </tr>\n",
              "  </thead>\n",
              "  <tbody>\n",
              "    <tr>\n",
              "      <th>0</th>\n",
              "      <td>63</td>\n",
              "      <td>1</td>\n",
              "      <td>3</td>\n",
              "      <td>145</td>\n",
              "      <td>233</td>\n",
              "      <td>1</td>\n",
              "      <td>0</td>\n",
              "      <td>150</td>\n",
              "      <td>0</td>\n",
              "      <td>2.3</td>\n",
              "      <td>0</td>\n",
              "      <td>0</td>\n",
              "      <td>1</td>\n",
              "      <td>1</td>\n",
              "    </tr>\n",
              "    <tr>\n",
              "      <th>1</th>\n",
              "      <td>37</td>\n",
              "      <td>1</td>\n",
              "      <td>2</td>\n",
              "      <td>130</td>\n",
              "      <td>250</td>\n",
              "      <td>0</td>\n",
              "      <td>1</td>\n",
              "      <td>187</td>\n",
              "      <td>0</td>\n",
              "      <td>3.5</td>\n",
              "      <td>0</td>\n",
              "      <td>0</td>\n",
              "      <td>2</td>\n",
              "      <td>1</td>\n",
              "    </tr>\n",
              "    <tr>\n",
              "      <th>2</th>\n",
              "      <td>41</td>\n",
              "      <td>0</td>\n",
              "      <td>1</td>\n",
              "      <td>130</td>\n",
              "      <td>204</td>\n",
              "      <td>0</td>\n",
              "      <td>0</td>\n",
              "      <td>172</td>\n",
              "      <td>0</td>\n",
              "      <td>1.4</td>\n",
              "      <td>2</td>\n",
              "      <td>0</td>\n",
              "      <td>2</td>\n",
              "      <td>1</td>\n",
              "    </tr>\n",
              "    <tr>\n",
              "      <th>3</th>\n",
              "      <td>56</td>\n",
              "      <td>1</td>\n",
              "      <td>1</td>\n",
              "      <td>120</td>\n",
              "      <td>236</td>\n",
              "      <td>0</td>\n",
              "      <td>1</td>\n",
              "      <td>178</td>\n",
              "      <td>0</td>\n",
              "      <td>0.8</td>\n",
              "      <td>2</td>\n",
              "      <td>0</td>\n",
              "      <td>2</td>\n",
              "      <td>1</td>\n",
              "    </tr>\n",
              "    <tr>\n",
              "      <th>4</th>\n",
              "      <td>57</td>\n",
              "      <td>0</td>\n",
              "      <td>0</td>\n",
              "      <td>120</td>\n",
              "      <td>354</td>\n",
              "      <td>0</td>\n",
              "      <td>1</td>\n",
              "      <td>163</td>\n",
              "      <td>1</td>\n",
              "      <td>0.6</td>\n",
              "      <td>2</td>\n",
              "      <td>0</td>\n",
              "      <td>2</td>\n",
              "      <td>1</td>\n",
              "    </tr>\n",
              "  </tbody>\n",
              "</table>\n",
              "</div>"
            ],
            "text/plain": [
              "   age  sex  cp  trestbps  chol  fbs  ...  exang  oldpeak  slope  ca  thal  target\n",
              "0   63    1   3       145   233    1  ...      0      2.3      0   0     1       1\n",
              "1   37    1   2       130   250    0  ...      0      3.5      0   0     2       1\n",
              "2   41    0   1       130   204    0  ...      0      1.4      2   0     2       1\n",
              "3   56    1   1       120   236    0  ...      0      0.8      2   0     2       1\n",
              "4   57    0   0       120   354    0  ...      1      0.6      2   0     2       1\n",
              "\n",
              "[5 rows x 14 columns]"
            ]
          },
          "metadata": {},
          "execution_count": 9
        }
      ]
    },
    {
      "cell_type": "markdown",
      "metadata": {
        "id": "LhgGZw1AGzfT"
      },
      "source": [
        "Shape:"
      ]
    },
    {
      "cell_type": "code",
      "metadata": {
        "id": "KmU2syYKFk1y",
        "colab": {
          "base_uri": "https://localhost:8080/"
        },
        "outputId": "b5c525d5-261b-4c66-a888-d92926d4bacd"
      },
      "source": [
        "data.shape"
      ],
      "execution_count": null,
      "outputs": [
        {
          "output_type": "execute_result",
          "data": {
            "text/plain": [
              "(303, 14)"
            ]
          },
          "metadata": {},
          "execution_count": 10
        }
      ]
    },
    {
      "cell_type": "markdown",
      "metadata": {
        "id": "nk2PuKGZG5Tw"
      },
      "source": [
        "Variables types:"
      ]
    },
    {
      "cell_type": "code",
      "metadata": {
        "id": "LoGRmPgCO0g6",
        "colab": {
          "base_uri": "https://localhost:8080/"
        },
        "outputId": "3126de26-249a-45b4-b9db-2e1585dbdfb3"
      },
      "source": [
        "data.dtypes"
      ],
      "execution_count": null,
      "outputs": [
        {
          "output_type": "execute_result",
          "data": {
            "text/plain": [
              "age           int64\n",
              "sex           int64\n",
              "cp            int64\n",
              "trestbps      int64\n",
              "chol          int64\n",
              "fbs           int64\n",
              "restecg       int64\n",
              "thalach       int64\n",
              "exang         int64\n",
              "oldpeak     float64\n",
              "slope         int64\n",
              "ca            int64\n",
              "thal          int64\n",
              "target        int64\n",
              "dtype: object"
            ]
          },
          "metadata": {},
          "execution_count": 11
        }
      ]
    },
    {
      "cell_type": "markdown",
      "metadata": {
        "id": "C6c5r148PNFI"
      },
      "source": [
        "## **EDA AND PRE-PROCESSING**\n",
        "\n",
        "\n"
      ]
    },
    {
      "cell_type": "markdown",
      "metadata": {
        "id": "j_64CUspH51k"
      },
      "source": [
        "### Outcome variable count:"
      ]
    },
    {
      "cell_type": "code",
      "metadata": {
        "id": "sfAcAqE_HTHR",
        "colab": {
          "base_uri": "https://localhost:8080/",
          "height": 386
        },
        "outputId": "09d4ddf3-8ac3-44f9-d895-34e9ac86869e"
      },
      "source": [
        "sns.catplot(x=\"target\", kind='count', data=data)"
      ],
      "execution_count": null,
      "outputs": [
        {
          "output_type": "execute_result",
          "data": {
            "text/plain": [
              "<seaborn.axisgrid.FacetGrid at 0x7fdb00282cd0>"
            ]
          },
          "metadata": {},
          "execution_count": 12
        },
        {
          "output_type": "display_data",
          "data": {
            "image/png": "[encoded data removed]",
            "text/plain": [
              "<Figure size 360x360 with 1 Axes>"
            ]
          },
          "metadata": {
            "needs_background": "light"
          }
        }
      ]
    },
    {
      "cell_type": "markdown",
      "metadata": {
        "id": "ShrdgxYRILA9"
      },
      "source": [
        "### Categorical predictive variables:"
      ]
    },
    {
      "cell_type": "markdown",
      "metadata": {
        "id": "X79rW6MIIUP9"
      },
      "source": [
        "sex:"
      ]
    },
    {
      "cell_type": "code",
      "metadata": {
        "id": "EwKpfDA_ImU5",
        "colab": {
          "base_uri": "https://localhost:8080/",
          "height": 386
        },
        "outputId": "1d376057-f57f-42c3-96b4-25c73d93ea82"
      },
      "source": [
        "sns.catplot(x='sex',kind='count', hue='target', data=data)"
      ],
      "execution_count": null,
      "outputs": [
        {
          "output_type": "execute_result",
          "data": {
            "text/plain": [
              "<seaborn.axisgrid.FacetGrid at 0x7fdaf74fd090>"
            ]
          },
          "metadata": {},
          "execution_count": 13
        },
        {
          "output_type": "display_data",
          "data": {
            "image/png": "[encoded data removed]",
            "text/plain": [
              "<Figure size 402.375x360 with 1 Axes>"
            ]
          },
          "metadata": {
            "needs_background": "light"
          }
        }
      ]
    },
    {
      "cell_type": "markdown",
      "metadata": {
        "id": "wDdW_oEOqQnl"
      },
      "source": [
        "cp:"
      ]
    },
    {
      "cell_type": "code",
      "metadata": {
        "id": "_-eHu_RiKBeM",
        "colab": {
          "base_uri": "https://localhost:8080/",
          "height": 386
        },
        "outputId": "508e7aa2-e5f6-4f05-c756-3bedf3823662"
      },
      "source": [
        "sns.catplot(x='cp',kind='count', hue='target', data=data)"
      ],
      "execution_count": null,
      "outputs": [
        {
          "output_type": "execute_result",
          "data": {
            "text/plain": [
              "<seaborn.axisgrid.FacetGrid at 0x7fdaf6deefd0>"
            ]
          },
          "metadata": {},
          "execution_count": 14
        },
        {
          "output_type": "display_data",
          "data": {
            "image/png": "[encoded data removed]",
            "text/plain": [
              "<Figure size 402.375x360 with 1 Axes>"
            ]
          },
          "metadata": {
            "needs_background": "light"
          }
        }
      ]
    },
    {
      "cell_type": "markdown",
      "metadata": {
        "id": "ovg-G0_BrN4-"
      },
      "source": [
        "fbs:"
      ]
    },
    {
      "cell_type": "code",
      "metadata": {
        "id": "K5LAP6SUK7bx",
        "colab": {
          "base_uri": "https://localhost:8080/",
          "height": 386
        },
        "outputId": "c50ada3a-a99f-4fd4-9c03-1f03fcc3782d"
      },
      "source": [
        "sns.catplot(x='fbs',kind='count', hue='target', data=data)"
      ],
      "execution_count": null,
      "outputs": [
        {
          "output_type": "execute_result",
          "data": {
            "text/plain": [
              "<seaborn.axisgrid.FacetGrid at 0x7fdaf750bf90>"
            ]
          },
          "metadata": {},
          "execution_count": 15
        },
        {
          "output_type": "display_data",
          "data": {
            "image/png": "[encoded data removed]",
            "text/plain": [
              "<Figure size 402.375x360 with 1 Axes>"
            ]
          },
          "metadata": {
            "needs_background": "light"
          }
        }
      ]
    },
    {
      "cell_type": "markdown",
      "metadata": {
        "id": "gKNHGfkArUlu"
      },
      "source": [
        "restecg:"
      ]
    },
    {
      "cell_type": "code",
      "metadata": {
        "id": "yb4yl_7MLJln",
        "colab": {
          "base_uri": "https://localhost:8080/",
          "height": 386
        },
        "outputId": "31386a81-4d69-4b6e-b8b1-f7ac0ec8af48"
      },
      "source": [
        "sns.catplot(x='restecg',kind='count', hue='target', data=data)"
      ],
      "execution_count": null,
      "outputs": [
        {
          "output_type": "execute_result",
          "data": {
            "text/plain": [
              "<seaborn.axisgrid.FacetGrid at 0x7fdaf64edb90>"
            ]
          },
          "metadata": {},
          "execution_count": 16
        },
        {
          "output_type": "display_data",
          "data": {
            "image/png": "[encoded data removed]",
            "text/plain": [
              "<Figure size 402.375x360 with 1 Axes>"
            ]
          },
          "metadata": {
            "needs_background": "light"
          }
        }
      ]
    },
    {
      "cell_type": "markdown",
      "metadata": {
        "id": "c6Dy05CPrXZt"
      },
      "source": [
        "exang:"
      ]
    },
    {
      "cell_type": "code",
      "metadata": {
        "id": "D7r-qjKML6Ow",
        "colab": {
          "base_uri": "https://localhost:8080/",
          "height": 386
        },
        "outputId": "d4035c93-6a2f-4552-c714-4f1906e0a6ec"
      },
      "source": [
        "sns.catplot(x='exang',kind='count', hue='target', data=data)"
      ],
      "execution_count": null,
      "outputs": [
        {
          "output_type": "execute_result",
          "data": {
            "text/plain": [
              "<seaborn.axisgrid.FacetGrid at 0x7fdaf6481390>"
            ]
          },
          "metadata": {},
          "execution_count": 17
        },
        {
          "output_type": "display_data",
          "data": {
            "image/png": "[encoded data removed]",
            "text/plain": [
              "<Figure size 402.375x360 with 1 Axes>"
            ]
          },
          "metadata": {
            "needs_background": "light"
          }
        }
      ]
    },
    {
      "cell_type": "markdown",
      "metadata": {
        "id": "gMDNzp1ArbQT"
      },
      "source": [
        "slope:"
      ]
    },
    {
      "cell_type": "code",
      "metadata": {
        "id": "1AIm2KUaMASO",
        "colab": {
          "base_uri": "https://localhost:8080/",
          "height": 386
        },
        "outputId": "ab147b9e-9be6-4f38-87b1-4761e24d9516"
      },
      "source": [
        "sns.catplot(x='slope',kind='count', hue='target', data=data)"
      ],
      "execution_count": null,
      "outputs": [
        {
          "output_type": "execute_result",
          "data": {
            "text/plain": [
              "<seaborn.axisgrid.FacetGrid at 0x7fdaf63a7f90>"
            ]
          },
          "metadata": {},
          "execution_count": 18
        },
        {
          "output_type": "display_data",
          "data": {
            "image/png": "[encoded data removed]",
            "text/plain": [
              "<Figure size 402.375x360 with 1 Axes>"
            ]
          },
          "metadata": {
            "needs_background": "light"
          }
        }
      ]
    },
    {
      "cell_type": "markdown",
      "metadata": {
        "id": "2B2QMZLurfN6"
      },
      "source": [
        "ca:"
      ]
    },
    {
      "cell_type": "code",
      "metadata": {
        "id": "a00BHvtbMhm2",
        "colab": {
          "base_uri": "https://localhost:8080/",
          "height": 386
        },
        "outputId": "b13b7c00-6017-4604-d499-4540b8b162cb"
      },
      "source": [
        "sns.catplot(x='ca',kind='count', hue='target', data=data)"
      ],
      "execution_count": null,
      "outputs": [
        {
          "output_type": "execute_result",
          "data": {
            "text/plain": [
              "<seaborn.axisgrid.FacetGrid at 0x7fdaf6385890>"
            ]
          },
          "metadata": {},
          "execution_count": 19
        },
        {
          "output_type": "display_data",
          "data": {
            "image/png": "[encoded data removed]",
            "text/plain": [
              "<Figure size 402.375x360 with 1 Axes>"
            ]
          },
          "metadata": {
            "needs_background": "light"
          }
        }
      ]
    },
    {
      "cell_type": "markdown",
      "metadata": {
        "id": "9kQU7xA-rlNN"
      },
      "source": [
        "thal:"
      ]
    },
    {
      "cell_type": "code",
      "metadata": {
        "id": "XZnp7VBzM0qv",
        "colab": {
          "base_uri": "https://localhost:8080/",
          "height": 386
        },
        "outputId": "22ece1dc-9ea3-458d-fa87-e71d634b78b3"
      },
      "source": [
        "sns.catplot(x='thal',kind='count', hue='target', data=data)"
      ],
      "execution_count": null,
      "outputs": [
        {
          "output_type": "execute_result",
          "data": {
            "text/plain": [
              "<seaborn.axisgrid.FacetGrid at 0x7fdaf6345a10>"
            ]
          },
          "metadata": {},
          "execution_count": 20
        },
        {
          "output_type": "display_data",
          "data": {
            "image/png": "[encoded data removed]",
            "text/plain": [
              "<Figure size 402.375x360 with 1 Axes>"
            ]
          },
          "metadata": {
            "needs_background": "light"
          }
        }
      ]
    },
    {
      "cell_type": "markdown",
      "metadata": {
        "id": "llO7BS8pM_Xh"
      },
      "source": [
        "### Distributional predictive variables:\n",
        "\n",
        "\n"
      ]
    },
    {
      "cell_type": "code",
      "metadata": {
        "id": "F9Wm8CBGOe9P",
        "colab": {
          "base_uri": "https://localhost:8080/",
          "height": 297
        },
        "outputId": "852b13db-0ea3-4596-aaa0-2ee593fefe29"
      },
      "source": [
        "data[['age', 'trestbps', 'chol', 'thalach', 'oldpeak']].describe()"
      ],
      "execution_count": null,
      "outputs": [
        {
          "output_type": "execute_result",
          "data": {
            "text/html": [
              "<div>\n",
              "<style scoped>\n",
              "    .dataframe tbody tr th:only-of-type {\n",
              "        vertical-align: middle;\n",
              "    }\n",
              "\n",
              "    .dataframe tbody tr th {\n",
              "        vertical-align: top;\n",
              "    }\n",
              "\n",
              "    .dataframe thead th {\n",
              "        text-align: right;\n",
              "    }\n",
              "</style>\n",
              "<table border=\"1\" class=\"dataframe\">\n",
              "  <thead>\n",
              "    <tr style=\"text-align: right;\">\n",
              "      <th></th>\n",
              "      <th>age</th>\n",
              "      <th>trestbps</th>\n",
              "      <th>chol</th>\n",
              "      <th>thalach</th>\n",
              "      <th>oldpeak</th>\n",
              "    </tr>\n",
              "  </thead>\n",
              "  <tbody>\n",
              "    <tr>\n",
              "      <th>count</th>\n",
              "      <td>303.000000</td>\n",
              "      <td>303.000000</td>\n",
              "      <td>303.000000</td>\n",
              "      <td>303.000000</td>\n",
              "      <td>303.000000</td>\n",
              "    </tr>\n",
              "    <tr>\n",
              "      <th>mean</th>\n",
              "      <td>54.366337</td>\n",
              "      <td>131.623762</td>\n",
              "      <td>246.264026</td>\n",
              "      <td>149.646865</td>\n",
              "      <td>1.039604</td>\n",
              "    </tr>\n",
              "    <tr>\n",
              "      <th>std</th>\n",
              "      <td>9.082101</td>\n",
              "      <td>17.538143</td>\n",
              "      <td>51.830751</td>\n",
              "      <td>22.905161</td>\n",
              "      <td>1.161075</td>\n",
              "    </tr>\n",
              "    <tr>\n",
              "      <th>min</th>\n",
              "      <td>29.000000</td>\n",
              "      <td>94.000000</td>\n",
              "      <td>126.000000</td>\n",
              "      <td>71.000000</td>\n",
              "      <td>0.000000</td>\n",
              "    </tr>\n",
              "    <tr>\n",
              "      <th>25%</th>\n",
              "      <td>47.500000</td>\n",
              "      <td>120.000000</td>\n",
              "      <td>211.000000</td>\n",
              "      <td>133.500000</td>\n",
              "      <td>0.000000</td>\n",
              "    </tr>\n",
              "    <tr>\n",
              "      <th>50%</th>\n",
              "      <td>55.000000</td>\n",
              "      <td>130.000000</td>\n",
              "      <td>240.000000</td>\n",
              "      <td>153.000000</td>\n",
              "      <td>0.800000</td>\n",
              "    </tr>\n",
              "    <tr>\n",
              "      <th>75%</th>\n",
              "      <td>61.000000</td>\n",
              "      <td>140.000000</td>\n",
              "      <td>274.500000</td>\n",
              "      <td>166.000000</td>\n",
              "      <td>1.600000</td>\n",
              "    </tr>\n",
              "    <tr>\n",
              "      <th>max</th>\n",
              "      <td>77.000000</td>\n",
              "      <td>200.000000</td>\n",
              "      <td>564.000000</td>\n",
              "      <td>202.000000</td>\n",
              "      <td>6.200000</td>\n",
              "    </tr>\n",
              "  </tbody>\n",
              "</table>\n",
              "</div>"
            ],
            "text/plain": [
              "              age    trestbps        chol     thalach     oldpeak\n",
              "count  303.000000  303.000000  303.000000  303.000000  303.000000\n",
              "mean    54.366337  131.623762  246.264026  149.646865    1.039604\n",
              "std      9.082101   17.538143   51.830751   22.905161    1.161075\n",
              "min     29.000000   94.000000  126.000000   71.000000    0.000000\n",
              "25%     47.500000  120.000000  211.000000  133.500000    0.000000\n",
              "50%     55.000000  130.000000  240.000000  153.000000    0.800000\n",
              "75%     61.000000  140.000000  274.500000  166.000000    1.600000\n",
              "max     77.000000  200.000000  564.000000  202.000000    6.200000"
            ]
          },
          "metadata": {},
          "execution_count": 21
        }
      ]
    },
    {
      "cell_type": "code",
      "metadata": {
        "id": "SrTyRET3ToAN",
        "colab": {
          "base_uri": "https://localhost:8080/",
          "height": 386
        },
        "outputId": "c69013a3-aeef-40df-978b-d1f1d78c4c59"
      },
      "source": [
        "sns.displot(x='age', multiple='stack', hue= 'target', data= data)"
      ],
      "execution_count": null,
      "outputs": [
        {
          "output_type": "execute_result",
          "data": {
            "text/plain": [
              "<seaborn.axisgrid.FacetGrid at 0x7fdaf6247750>"
            ]
          },
          "metadata": {},
          "execution_count": 22
        },
        {
          "output_type": "display_data",
          "data": {
            "image/png": "[encoded data removed]",
            "text/plain": [
              "<Figure size 402.375x360 with 1 Axes>"
            ]
          },
          "metadata": {
            "needs_background": "light"
          }
        }
      ]
    },
    {
      "cell_type": "code",
      "metadata": {
        "id": "B-TEMbYUO5RA",
        "colab": {
          "base_uri": "https://localhost:8080/",
          "height": 386
        },
        "outputId": "620d34c7-97be-49f9-a650-c2b1e543692e"
      },
      "source": [
        "sns.displot(x='trestbps', multiple='stack', hue= 'target', data= data)"
      ],
      "execution_count": null,
      "outputs": [
        {
          "output_type": "execute_result",
          "data": {
            "text/plain": [
              "<seaborn.axisgrid.FacetGrid at 0x7fdaf61360d0>"
            ]
          },
          "metadata": {},
          "execution_count": 23
        },
        {
          "output_type": "display_data",
          "data": {
            "image/png": "[encoded data removed]",
            "text/plain": [
              "<Figure size 402.375x360 with 1 Axes>"
            ]
          },
          "metadata": {
            "needs_background": "light"
          }
        }
      ]
    },
    {
      "cell_type": "code",
      "metadata": {
        "id": "5q9pzVLTQhKh",
        "colab": {
          "base_uri": "https://localhost:8080/",
          "height": 386
        },
        "outputId": "9a367d1c-7cd5-440b-83fe-8c768d4c6925"
      },
      "source": [
        "sns.displot(x='chol', multiple='stack', hue= 'target', data= data)"
      ],
      "execution_count": null,
      "outputs": [
        {
          "output_type": "execute_result",
          "data": {
            "text/plain": [
              "<seaborn.axisgrid.FacetGrid at 0x7fdaf608e190>"
            ]
          },
          "metadata": {},
          "execution_count": 24
        },
        {
          "output_type": "display_data",
          "data": {
            "image/png": "[encoded data removed]",
            "text/plain": [
              "<Figure size 402.375x360 with 1 Axes>"
            ]
          },
          "metadata": {
            "needs_background": "light"
          }
        }
      ]
    },
    {
      "cell_type": "code",
      "metadata": {
        "id": "M2SwCb04QsND",
        "colab": {
          "base_uri": "https://localhost:8080/",
          "height": 386
        },
        "outputId": "818df7db-0c0f-431b-d8e2-51547234e5c5"
      },
      "source": [
        "sns.displot(x='thalach', multiple='stack', hue= 'target', data= data)"
      ],
      "execution_count": null,
      "outputs": [
        {
          "output_type": "execute_result",
          "data": {
            "text/plain": [
              "<seaborn.axisgrid.FacetGrid at 0x7fdaf6098750>"
            ]
          },
          "metadata": {},
          "execution_count": 25
        },
        {
          "output_type": "display_data",
          "data": {
            "image/png": "[encoded data removed]",
            "text/plain": [
              "<Figure size 402.375x360 with 1 Axes>"
            ]
          },
          "metadata": {
            "needs_background": "light"
          }
        }
      ]
    },
    {
      "cell_type": "code",
      "metadata": {
        "id": "65CZvnWdRRPi",
        "colab": {
          "base_uri": "https://localhost:8080/",
          "height": 386
        },
        "outputId": "a3e39f43-15dc-45a7-a27a-f266193c7697"
      },
      "source": [
        "sns.displot(x='oldpeak', multiple='stack', hue= 'target', data= data)"
      ],
      "execution_count": null,
      "outputs": [
        {
          "output_type": "execute_result",
          "data": {
            "text/plain": [
              "<seaborn.axisgrid.FacetGrid at 0x7fdaf641ded0>"
            ]
          },
          "metadata": {},
          "execution_count": 26
        },
        {
          "output_type": "display_data",
          "data": {
            "image/png": "[encoded data removed]",
            "text/plain": [
              "<Figure size 402.375x360 with 1 Axes>"
            ]
          },
          "metadata": {
            "needs_background": "light"
          }
        }
      ]
    },
    {
      "cell_type": "markdown",
      "metadata": {
        "id": "ssRTg0DGRcqo"
      },
      "source": [
        "## **SPLITTING AND PRE-PROCESSING:**"
      ]
    },
    {
      "cell_type": "markdown",
      "metadata": {
        "id": "BPCxzv6Cp56_"
      },
      "source": [
        "Defining x_train, x_test, y_train and y_test:"
      ]
    },
    {
      "cell_type": "code",
      "metadata": {
        "id": "lTcZnUktTDWR"
      },
      "source": [
        "x = data.drop('target', axis=1)\n",
        "y = data['target']\n",
        "x_train, x_test, y_train, y_test = train_test_split(x,y, test_size=0.2, random_state = 42)"
      ],
      "execution_count": null,
      "outputs": []
    },
    {
      "cell_type": "markdown",
      "metadata": {
        "id": "ENxqQf43qCJS"
      },
      "source": [
        "Scaling the data:"
      ]
    },
    {
      "cell_type": "code",
      "metadata": {
        "id": "ilOoDJJ5SlxT"
      },
      "source": [
        "sc = StandardScaler().fit(x_train)\n",
        "x_train = sc.transform(x_train)\n",
        "x_test = sc.transform(x_test)"
      ],
      "execution_count": null,
      "outputs": []
    },
    {
      "cell_type": "markdown",
      "metadata": {
        "id": "cghXDXKdnqRw"
      },
      "source": [
        "## **TRAINING THE MODEL:**"
      ]
    },
    {
      "cell_type": "markdown",
      "metadata": {
        "id": "G3iVIru4oGGV"
      },
      "source": [
        "Parameters for grid search:"
      ]
    },
    {
      "cell_type": "code",
      "metadata": {
        "id": "qgmdxuHgSwU5"
      },
      "source": [
        "knn = KNeighborsClassifier()\n",
        "parameters = {'n_neighbors': [3,5,7,9,11], 'weights': ['uniform','distance']}"
      ],
      "execution_count": null,
      "outputs": []
    },
    {
      "cell_type": "markdown",
      "metadata": {
        "id": "M0h8pdqGoKAe"
      },
      "source": [
        "Fiting training data and grid searching:"
      ]
    },
    {
      "cell_type": "code",
      "metadata": {
        "id": "8ZmzaaIfVWt9",
        "colab": {
          "base_uri": "https://localhost:8080/"
        },
        "outputId": "7fbe023a-d2e1-45a1-89b9-47564656d6f4"
      },
      "source": [
        "grid = GridSearchCV(knn, parameters,cv=4, scoring='accuracy')\n",
        "\n",
        "grid.fit(x_train,y_train)"
      ],
      "execution_count": null,
      "outputs": [
        {
          "output_type": "execute_result",
          "data": {
            "text/plain": [
              "GridSearchCV(cv=4, error_score=nan,\n",
              "             estimator=KNeighborsClassifier(algorithm='auto', leaf_size=30,\n",
              "                                            metric='minkowski',\n",
              "                                            metric_params=None, n_jobs=None,\n",
              "                                            n_neighbors=5, p=2,\n",
              "                                            weights='uniform'),\n",
              "             iid='deprecated', n_jobs=None,\n",
              "             param_grid={'n_neighbors': [3, 5, 7, 9, 11],\n",
              "                         'weights': ['uniform', 'distance']},\n",
              "             pre_dispatch='2*n_jobs', refit=True, return_train_score=False,\n",
              "             scoring='accuracy', verbose=0)"
            ]
          },
          "metadata": {},
          "execution_count": 30
        }
      ]
    },
    {
      "cell_type": "markdown",
      "metadata": {
        "id": "2t894auSop-o"
      },
      "source": [
        "Displayng best parameters:"
      ]
    },
    {
      "cell_type": "code",
      "metadata": {
        "id": "9mBTc_stW8rU",
        "colab": {
          "base_uri": "https://localhost:8080/"
        },
        "outputId": "215dd541-12aa-4853-95ca-4080edec08af"
      },
      "source": [
        "grid.best_params_"
      ],
      "execution_count": null,
      "outputs": [
        {
          "output_type": "execute_result",
          "data": {
            "text/plain": [
              "{'n_neighbors': 5, 'weights': 'uniform'}"
            ]
          },
          "metadata": {},
          "execution_count": 31
        }
      ]
    },
    {
      "cell_type": "markdown",
      "metadata": {
        "id": "GKUsyoBPos4s"
      },
      "source": [
        "Picking the best model:"
      ]
    },
    {
      "cell_type": "code",
      "metadata": {
        "id": "QqrYNCqEn-zW"
      },
      "source": [
        "model=grid.best_estimator_"
      ],
      "execution_count": null,
      "outputs": []
    },
    {
      "cell_type": "markdown",
      "metadata": {
        "id": "cn62oN6AoUDR"
      },
      "source": [
        "## **EVALUATING THE MODEL:**"
      ]
    },
    {
      "cell_type": "markdown",
      "metadata": {
        "id": "S8hx4t6Towzw"
      },
      "source": [
        "Model score on test data:"
      ]
    },
    {
      "cell_type": "code",
      "metadata": {
        "id": "-cNXhzHfXA4a",
        "colab": {
          "base_uri": "https://localhost:8080/"
        },
        "outputId": "ed7ae076-df82-4992-aeef-aac94cc0100b"
      },
      "source": [
        "model.score(x_test,y_test)"
      ],
      "execution_count": null,
      "outputs": [
        {
          "output_type": "execute_result",
          "data": {
            "text/plain": [
              "0.9016393442622951"
            ]
          },
          "metadata": {},
          "execution_count": 33
        }
      ]
    },
    {
      "cell_type": "markdown",
      "metadata": {
        "id": "OCRtE-yBo44k"
      },
      "source": [
        "Confusion matrix:"
      ]
    },
    {
      "cell_type": "code",
      "metadata": {
        "id": "o4IBWo2NaUbJ",
        "colab": {
          "base_uri": "https://localhost:8080/",
          "height": 265
        },
        "outputId": "4f99efbc-a3a2-402d-a7cb-96ccaff853c9"
      },
      "source": [
        "predictions = model.predict(x_test)\n",
        "cm = metrics.confusion_matrix(y_test,predictions)\n",
        "cm = pd.DataFrame(cm)\n",
        "sns.heatmap(cm, annot=True)\n",
        "plt.show()"
      ],
      "execution_count": null,
      "outputs": [
        {
          "output_type": "display_data",
          "data": {
            "image/png": "[encoded data removed]",
            "text/plain": [
              "<Figure size 432x288 with 2 Axes>"
            ]
          },
          "metadata": {
            "needs_background": "light"
          }
        }
      ]
    },
    {
      "cell_type": "markdown",
      "metadata": {
        "id": "ptduARW6pW_B"
      },
      "source": [
        "Calculating sensitivity, specificity, PPV and NPV:"
      ]
    },
    {
      "cell_type": "code",
      "metadata": {
        "id": "UOOarOZcZfbC"
      },
      "source": [
        "TP = 28\n",
        "FP = 2\n",
        "TN = 27\n",
        "FN = 4\n",
        "sensitivity = (TP / (TP + FN) )*100\n",
        "specificity =  (TN / (TN + FP) )*100\n",
        "ppv = (TP / (TP + FP) )*100\n",
        "npv = (TN/ (TN + FN) )*100\n"
      ],
      "execution_count": null,
      "outputs": []
    },
    {
      "cell_type": "markdown",
      "metadata": {
        "id": "Xl9jGe4Npdzw"
      },
      "source": [
        "Printing sensitivity, specificity, PPV and NPV:"
      ]
    },
    {
      "cell_type": "code",
      "metadata": {
        "id": "XkFWdr2abB6N",
        "colab": {
          "base_uri": "https://localhost:8080/"
        },
        "outputId": "9a30b5b1-43f7-4afc-ba7d-7ba00947e326"
      },
      "source": [
        "print('Sensitivity:', sensitivity,'% ','Specificity:', specificity,'% ','positive predictive value:',ppv,'% ','negative predictive value:',npv,'%' )"
      ],
      "execution_count": null,
      "outputs": [
        {
          "output_type": "stream",
          "name": "stdout",
          "text": [
            "Sensitivity: 87.5 %  Specificity: 93.10344827586206 %  positive predictive value: 93.33333333333333 %  negative predictive value: 87.09677419354838 %\n"
          ]
        }
      ]
    },
    {
      "cell_type": "markdown",
      "metadata": {
        "id": "BTZI1JOBpjK8"
      },
      "source": [
        "AUC score:"
      ]
    },
    {
      "cell_type": "code",
      "metadata": {
        "id": "zmArXtPTjm3x",
        "colab": {
          "base_uri": "https://localhost:8080/"
        },
        "outputId": "e40b1502-85ef-4e16-d0a7-cc114d7d95ce"
      },
      "source": [
        "probs = model.predict_proba(x_test)[:,1]\n",
        "auc = metrics.roc_auc_score(y_test, probs)\n",
        "print(auc)"
      ],
      "execution_count": null,
      "outputs": [
        {
          "output_type": "stream",
          "name": "stdout",
          "text": [
            "0.9154094827586208\n"
          ]
        }
      ]
    },
    {
      "cell_type": "markdown",
      "metadata": {
        "id": "-juA2B_-poHk"
      },
      "source": [
        "ROC curve:"
      ]
    },
    {
      "cell_type": "code",
      "metadata": {
        "id": "Vz9c_zVfmFyQ",
        "colab": {
          "base_uri": "https://localhost:8080/",
          "height": 265
        },
        "outputId": "d7e6e23e-75c0-42c0-898b-6b1408c3da10"
      },
      "source": [
        "fpr, tpr, _ = metrics.roc_curve(y_test,probs)\n",
        "plt.figure()\n",
        "plt.grid()\n",
        "plt.plot(fpr, tpr)\n",
        "plt.plot([0, 1], [0, 1])\n",
        "plt.show()"
      ],
      "execution_count": null,
      "outputs": [
        {
          "output_type": "display_data",
          "data": {
            "image/png": "[encoded data removed]",
            "text/plain": [
              "<Figure size 432x288 with 1 Axes>"
            ]
          },
          "metadata": {
            "needs_background": "light"
          }
        }
      ]
    },
    {
      "cell_type": "code",
      "metadata": {
        "id": "9GRieWbMm42y"
      },
      "source": [
        ""
      ],
      "execution_count": null,
      "outputs": []
    }
  ]
}